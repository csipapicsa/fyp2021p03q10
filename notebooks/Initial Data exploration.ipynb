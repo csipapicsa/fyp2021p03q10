{
 "cells": [
  {
   "cell_type": "code",
   "execution_count": null,
   "metadata": {},
   "outputs": [],
   "source": [
    "import numpy as np\n",
    "import matplotlib.pyplot as plt\n",
    "import matplotlib.image as mpimg\n",
    "from PIL import Image\n",
    "from os import listdir\n",
    "from skimage import morphology\n",
    "from skimage import transform"
   ]
  },
  {
   "cell_type": "code",
   "execution_count": null,
   "metadata": {},
   "outputs": [],
   "source": [
    "location = {}\n",
    "location[\"image\"] = \"../data/example_image/\"\n",
    "location[\"segmentation\"] = \"../data/example_segmentation/\"\n",
    "\n",
    "image = \"ISIC_0001769\"\n",
    "seg_suffix = \"_segmentation.png\"\n",
    "\n",
    "im = mpimg.imread(location[\"image\"]+image+\".jpg\")\n",
    "segment_one = mpimg.imread(location[\"segmentation\"]+image+seg_suffix)\n"
   ]
  },
  {
   "cell_type": "code",
   "execution_count": null,
   "metadata": {},
   "outputs": [],
   "source": [
    "fig, ax = plt.subplots(1,2, figsize = (12,6))\n",
    "ax[0].imshow(im)\n",
    "ax[1].imshow(segment_one, cmap = \"gray\")"
   ]
  },
  {
   "cell_type": "code",
   "execution_count": null,
   "metadata": {},
   "outputs": [],
   "source": [
    "#Finding the center\n",
    "borders = np.where(segment_one!=0)\n",
    "up, down = min(borders[0]),max(borders[0])\n",
    "left, right = min(borders[1]),max(borders[1])\n",
    "center = ((up+down)//2, (left+right)//2)\n",
    "trial = (np.mean(borders[0]), np.mean(borders[1]))\n",
    "print(up,down,left,right)\n",
    "print(center)\n",
    "print(trial)"
   ]
  },
  {
   "cell_type": "code",
   "execution_count": null,
   "metadata": {},
   "outputs": [],
   "source": [
    "#plotting the center over the segmentation\n",
    "plt.imshow(segment_one, cmap = \"gray\")\n",
    "plt.scatter(x=center[1], y =center[0])\n",
    "plt.scatter(x=trial[1],y=trial[0], color=\"pink\")"
   ]
  },
  {
   "cell_type": "code",
   "execution_count": null,
   "metadata": {},
   "outputs": [],
   "source": [
    "new_img = segment_one[up:down, left:right]\n",
    "nborder = np.where(segment_one[up:down, left:right] != 0)\n",
    "print(nborder)\n",
    "u, d, l, r = min(nborder[0]), max(nborder[0]), min(nborder[1]), max(nborder[1])\n",
    "print(\"up, down, left, right:\",u,d,l,r)\n",
    "print(\"half down, half right:\",d//2,r//2)\n",
    "print(\"mean of border:\", np.mean(nborder[1]),np.mean(nborder[0]))\n",
    "plt.imshow(new_img, cmap=\"gray\")\n",
    "plt.scatter(x=(r)//2, y= (d)//2, color = \"orange\")\n",
    "plt.scatter(x=np.mean(nborder[1]),y=np.mean(nborder[0]), color=\"magenta\")"
   ]
  },
  {
   "cell_type": "code",
   "execution_count": null,
   "metadata": {},
   "outputs": [],
   "source": [
    "struct_el = morphology.disk(10)\n",
    "mask_eroded = morphology.binary_erosion(new_img, struct_el)\n",
    "image_perimeter = new_img-mask_eroded\n",
    "\n",
    "non_flipped, flipped = image_perimeter[:,:r//2+1], np.flip(image_perimeter[:,r//2:],1)\n",
    "flipped_im = np.flip(image_perimeter,1)\n",
    "overlap = non_flipped.copy()\n",
    "overlap[flipped==1] = 1\n",
    "\n",
    "flipped_nonzero = np.count_nonzero(flipped_im)\n",
    "overlap_nonzero = np.count_nonzero(non_flipped)\n",
    "print(\"flipped nonzero:\",flipped_nonzero)\n",
    "print(\"nonflipped nonzero:\",overlap_nonzero)\n",
    "print(\"flipped - nonflipped\", flipped_nonzero - overlap_nonzero)\n",
    "\n",
    "fig, ax = plt.subplots(1,3)\n",
    "ax[0].imshow(non_flipped, cmap=\"gray\")\n",
    "ax[1].imshow(flipped, cmap=\"gray\")\n",
    "ax[2].imshow(overlap, cmap=\"gray\")"
   ]
  },
  {
   "cell_type": "code",
   "execution_count": null,
   "metadata": {},
   "outputs": [],
   "source": [
    "non_flipped.shape[1] == overlap.shape[1]"
   ]
  },
  {
   "cell_type": "code",
   "execution_count": null,
   "metadata": {},
   "outputs": [],
   "source": [
    "def border_overlap(image):\n",
    "    \"\"\"\n",
    "    Marks the border of a lesion, and divides this into left and rigt sub-images through the middle of the image.\n",
    "    the quotient of non-zero pixels between the two halves of the image overlayed and only the left side is calculated\n",
    "    and saved in a list. The image is then rotated 10 degrees, and the process is repeated, untill a rotation of 180\n",
    "    degrees have been made. Returns the minimum quotient stored in the list, and the rotation of the image required\n",
    "    to make that minimum, stored in degrees.\n",
    "    \"\"\"\n",
    "    struct_el = morphology.disk(10)\n",
    "    mask_eroded = morphology.binary_erosion(image, struct_el)\n",
    "    image_perimeter = image-mask_eroded #Making the border of the image only\n",
    "    right = image_perimeter.shape[1] #The width of the image, used to find the middle\n",
    "    nonzero_list = []\n",
    "    for angle in range(0,181,10):\n",
    "        rotated_image = transform.rotate(image_perimeter, angle) #Rotating the image by a multiple of 10 degrees\n",
    "        non_flipped, flipped = rotated_image[:,:int(right/2)], np.flip(rotated_image[:,int(right/2):],1) #dividing the image into left and right halves\n",
    "        dimension_diff = non_flipped.shape[1] - flipped.shape[1] #Finding possible differences in dimensions of the halves\n",
    "        non_flipped = rotated_image[:,:int(right/2)-dimension_diff] #Done to avoid dimensional comparison errors\n",
    "        overlap = non_flipped.copy() #Copying one half to ensure that we don't make shallow copies of the original image\n",
    "        overlap[flipped==1] = 1 #The actual overlay\n",
    "        flipped_nonzero = np.count_nonzero(flipped_im) #Calculates non-zero pixels of the right image\n",
    "        overlap_nonzero = np.count_nonzero(overlap) #Calculates non-zero pixels of the left image\n",
    "        nonzero_list.append(abs(overlap_nonzero/flipped_nonzero*100)) #Appends 'non-zero overlap / non-zero' left to a list\n",
    "    return(min(nonzero_list),nonzero_list.index(min(nonzero_list))) #Returns the minimum of the nonzero list after the image has been rotated 180 degrees\n"
   ]
  },
  {
   "cell_type": "code",
   "execution_count": null,
   "metadata": {},
   "outputs": [],
   "source": []
  },
  {
   "cell_type": "code",
   "execution_count": null,
   "metadata": {},
   "outputs": [],
   "source": [
    "def make_border_symmetry_csv(filepath):\n",
    "    \"\"\"\n",
    "    Function that takes image names from a filepath and returns the 'image_id' and contents of the 'border-overlap'\n",
    "    function to a .csv file called 'border_symmetry' in the data/processed folder.\n",
    "    \"\"\"\n",
    "    unfiltered_images = listdir(filepath) #Get the list of names of everything in the specified directory\n",
    "    filter_img = [i.strip(\".jpg\") for i in unfiltered_images if \".jpg\" in i] #Make list of only image names\n",
    "    most_overlap_list = [[\"image_id\", \"border_diff_percent\", \"rotation_amount_deg\"]] #list with headers for the csv file\n",
    "    for i in filter_img[]: #Loop through list\n",
    "        image = plt.imread(location[\"segmentation\"]+i+seg_suffix) #Load corresponding image segmentation of the image name\n",
    "        borders = np.where(image!=0) #Find non-zero elements of the image\n",
    "        up, down = min(borders[0]),max(borders[0]) #min and max height of image\n",
    "        left, right = min(borders[1]),max(borders[1]) #Min and max width of image\n",
    "        segment_image = image[up:down,left:right] #'Zoomed-in' image, discarding non-lesion parts of the image\n",
    "        j, k = border_overlap(segment_image) # Call to func border_overlap\n",
    "        most_overlap_list.append([i,j,k*10]) #Append image_id, border-quotient and degree-rotation to the list\n",
    "    np.savetxt(\"../data/processed/border_symmetry.csv\",\n",
    "        most_overlap_list, delimiter=\",\", fmt = \"% s\") #Turn list into .csv file in the data/processed folder\n",
    "    print('Make_broder_symmetry_csv done') #Reassuring message that it went succesfully :)\n",
    "\n",
    "make_border_symmetry_csv(\"../data/example_image\")"
   ]
  },
  {
   "cell_type": "code",
   "execution_count": null,
   "metadata": {},
   "outputs": [],
   "source": [
    "np.savetxt(\"../data/processed/border_symmetry.csv\",\n",
    "          most_overlap_list, delimiter=\",\", fmt = \"% s\")"
   ]
  },
  {
   "cell_type": "code",
   "execution_count": 52,
   "metadata": {},
   "outputs": [
    {
     "name": "stdout",
     "output_type": "stream",
     "text": [
      "3023\n",
      "[29200.0, 8795.0, 8060.0, 7366.0, 6729.0, 5452.0, 4239.0, 3413.0, 1031.0, 118.12962962962963, 884.5, 1453.0, 2480.0, 4605.0, 5174.0, 6376.0, 7020.0, 7738.0, 19211.0]\n",
      "\n"
     ]
    },
    {
     "data": {
      "image/png": "[encoded data removed]",
      "text/plain": [
       "<Figure size 1152x1440 with 57 Axes>"
      ]
     },
     "metadata": {
      "needs_background": "light"
     },
     "output_type": "display_data"
    }
   ],
   "source": [
    "fig, ax = plt.subplots(19,3, figsize=(16,20))\n",
    "iim = mpimg.imread(location[\"image\"]+\"ISIC_0007156\"+\".jpg\")\n",
    "nborder = np.where(iim != 0)\n",
    "\n",
    "up,down,left,right = min(nborder[0]), max(nborder[0]), min(nborder[1]), max(nborder[1])\n",
    "print(right)\n",
    "zoom_iim = iim[up:down,left:right]\n",
    "nonzero_list = []\n",
    "symmetry_list = []\n",
    "for angle in range(0,181,10):\n",
    "    rotated_image = transform.rotate(iim, angle)\n",
    "    border = np.where(rotated_image!=0)\n",
    "    right = max(border[1])\n",
    "    non_flipped, flipped = rotated_image[:,:int(right/2)], np.flip(rotated_image[:,int(right/2):],1)\n",
    "    dimension_diff = non_flipped.shape[1] - flipped.shape[1]\n",
    "    non_flipped = rotated_image[:,:int(right/2)-dimension_diff] #done to avoid dimensional comparison errors\n",
    "    overlap = non_flipped.copy()\n",
    "    overlap[flipped==1] = 1\n",
    "    \n",
    "    non_flipped_int = non_flipped.astype(int)\n",
    "    flipped_int = flipped.astype(int)\n",
    "    \n",
    "    intersection = np.bitwise_or(non_flipped_int, flipped_int)\n",
    "    union = np.bitwise_and(non_flipped_int, flipped_int)\n",
    "    res = np.count_nonzero(intersection) / (np.count_nonzero(union)+1)\n",
    "    symmetry_list.append(res)\n",
    "\n",
    "    ax[angle//10,0].imshow(intersection)\n",
    "    ax[angle//10,1].imshow(union)\n",
    "    #ax[angle//10,2].imshow(res)\n",
    "    \n",
    "print(symmetry_list)\n",
    "print()    \n",
    "\n",
    "#         height, width = non_flipped.shape\n",
    "#         area = height*width\n",
    "# flipped_nonzero = np.count_nonzero(flipped_im)\n",
    "# overlap_nonzero = np.count_nonzero(overlap)\n",
    "# #     nonflipped_list.append(flipped_nonzero//flipped_nonzero*100)\n",
    "# nonzero_list.append(abs(overlap_nonzero/flipped_nonzero*100))\n",
    "#     ax[angle//10,0].imshow(non_flipped)\n",
    "#     ax[angle//10,1].imshow(flipped)\n",
    "#     ax[angle//10,2].imshow(overlap)"
   ]
  },
  {
   "cell_type": "code",
   "execution_count": null,
   "metadata": {},
   "outputs": [],
   "source": [
    "print(\"Dimensions of Image 1: {} \\nDimensions of Segmentation 1: {}\".format(im.ndim, segment_one.ndim))\n",
    "print()\n",
    "print(\"Shape of Image 1: {} \\nShape of Segmentation 1: {}\".format(im.shape, segment_one.shape))"
   ]
  },
  {
   "cell_type": "code",
   "execution_count": null,
   "metadata": {},
   "outputs": [],
   "source": [
    "#PIL Imaging\n",
    "img1 = Image.open(location[\"image\"]+image+\".jpg\")\n",
    "img2 = Image.open(location[\"segmentation\"]+image+seg_suffix)\n",
    "\n",
    "img2.paste(img1, (0,0), mask = img2)\n",
    "\n",
    "plt.imshow(img2, cmap = \"gray\")\n",
    "print(img2.size)"
   ]
  },
  {
   "cell_type": "code",
   "execution_count": null,
   "metadata": {},
   "outputs": [],
   "source": [
    "img1 = im.copy()\n",
    "img1[segment_one==0]=0\n",
    "plt.imshow(img1)\n",
    "print(img1[img1!=0].shape)\n",
    "print(img1.shape[0]*img1.shape[1])\n",
    "print(np.sum(img1))\n",
    "print(np.sum(segment_one))"
   ]
  },
  {
   "cell_type": "code",
   "execution_count": null,
   "metadata": {},
   "outputs": [],
   "source": []
  },
  {
   "cell_type": "code",
   "execution_count": null,
   "metadata": {},
   "outputs": [],
   "source": [
    "fig, ax = plt.subplots(15,10, figsize = (30,20))\n",
    "ax0 = 0\n",
    "ax1 = 0\n",
    "for i in filter_img:\n",
    "    temp_img = plt.imread(location[\"image\"]+i+\".jpg\")\n",
    "    ax[ax0,ax1].imshow(temp_img)\n",
    "    ax1 += 1\n",
    "    if ax1 >9:\n",
    "        ax1=0\n",
    "        ax0+= 1\n",
    "        "
   ]
  },
  {
   "cell_type": "code",
   "execution_count": null,
   "metadata": {},
   "outputs": [],
   "source": [
    "fig, ax = plt.subplots(15,10, figsize = (80,40))\n",
    "ax0 = 0\n",
    "ax1 = 0\n",
    "for i in filter_img:\n",
    "    temp_img = plt.imread(location[\"segmentation\"]+i+seg_suffix)\n",
    "    border = np.where(temp_img != 0)\n",
    "    u,d,l,r = min(border[0]), max(border[0]), min(border[1]), max(border[1])\n",
    "    zoom_border = np.where(temp_img[u:d,l:r] != 0)\n",
    "    down, right = max(zoom_border[1]), max(zoom_border[0])\n",
    "    ax[ax0,ax1].imshow(temp_img[u:d,l:r], cmap = \"gray\")\n",
    "    ax[ax0,ax1].scatter(x=np.mean(zoom_border[1]),y=np.mean(zoom_border[0]),color=\"darkred\", alpha = 0.9, s = 100)\n",
    "    ax[ax0,ax1].scatter(x=down//2,y=right//2, color = \"blue\", s = 100)\n",
    "    ax1 += 1\n",
    "    if ax1 >9:\n",
    "        ax1=0\n",
    "        ax0+= 1\n"
   ]
  },
  {
   "cell_type": "code",
   "execution_count": null,
   "metadata": {},
   "outputs": [],
   "source": []
  },
  {
   "cell_type": "code",
   "execution_count": null,
   "metadata": {},
   "outputs": [],
   "source": []
  },
  {
   "cell_type": "code",
   "execution_count": null,
   "metadata": {},
   "outputs": [],
   "source": []
  },
  {
   "cell_type": "code",
   "execution_count": null,
   "metadata": {},
   "outputs": [],
   "source": []
  },
  {
   "cell_type": "code",
   "execution_count": null,
   "metadata": {},
   "outputs": [],
   "source": []
  }
 ],
 "metadata": {
  "kernelspec": {
   "display_name": "Python 3",
   "language": "python",
   "name": "python3"
  },
  "language_info": {
   "codemirror_mode": {
    "name": "ipython",
    "version": 3
   },
   "file_extension": ".py",
   "mimetype": "text/x-python",
   "name": "python",
   "nbconvert_exporter": "python",
   "pygments_lexer": "ipython3",
   "version": "3.8.3"
  }
 },
 "nbformat": 4,
 "nbformat_minor": 4
}
