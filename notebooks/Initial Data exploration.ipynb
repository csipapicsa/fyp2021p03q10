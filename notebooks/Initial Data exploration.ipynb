{
 "cells": [
  {
   "cell_type": "code",
   "execution_count": null,
   "metadata": {},
   "outputs": [],
   "source": [
    "import numpy as np\n",
    "import matplotlib.pyplot as plt\n",
    "import matplotlib.image as mpimg\n",
    "from PIL import Image\n",
    "from os import listdir\n",
    "from skimage import morphology\n",
    "from skimage import transform"
   ]
  },
  {
   "cell_type": "code",
   "execution_count": null,
   "metadata": {},
   "outputs": [],
   "source": [
    "location = {}\n",
    "location[\"image\"] = \"fyp2021p03q10/data/example_image/\"\n",
    "location[\"segmentation\"] = \"fyp2021p03q10/data/example_segmentation/\"\n",
    "\n",
    "image = \"ISIC_0001769\"\n",
    "seg_suffix = \"_segmentation.png\"\n",
    "\n",
    "im = mpimg.imread(location[\"image\"]+image+\".jpg\")\n",
    "segment_one = mpimg.imread(location[\"segmentation\"]+image+seg_suffix)\n"
   ]
  },
  {
   "cell_type": "code",
   "execution_count": null,
   "metadata": {},
   "outputs": [],
   "source": [
    "fig, ax = plt.subplots(1,2, figsize = (12,6))\n",
    "ax[0].imshow(im)\n",
    "ax[1].imshow(segment_one, cmap = \"gray\")"
   ]
  },
  {
   "cell_type": "code",
   "execution_count": null,
   "metadata": {},
   "outputs": [],
   "source": [
    "#Finding the center\n",
    "borders = np.where(segment_one!=0)\n",
    "up, down = min(borders[0]),max(borders[0])\n",
    "left, right = min(borders[1]),max(borders[1])\n",
    "center = ((up+down)//2, (left+right)//2)\n",
    "trial = (np.mean(borders[0]), np.mean(borders[1]))\n",
    "print(up,down,left,right)\n",
    "print(center)\n",
    "print(trial)"
   ]
  },
  {
   "cell_type": "code",
   "execution_count": null,
   "metadata": {},
   "outputs": [],
   "source": [
    "#plotting the center over the segmentation\n",
    "plt.imshow(segment_one, cmap = \"gray\")\n",
    "plt.scatter(x=center[1], y =center[0])\n",
    "plt.scatter(x=trial[1],y=trial[0], color=\"pink\")"
   ]
  },
  {
   "cell_type": "code",
   "execution_count": null,
   "metadata": {},
   "outputs": [],
   "source": [
    "new_img = segment_one[up:down, left:right]\n",
    "nborder = np.where(segment_one[up:down, left:right] != 0)\n",
    "print(nborder)\n",
    "u, d, l, r = min(nborder[0]), max(nborder[0]), min(nborder[1]), max(nborder[1])\n",
    "print(\"up, down, left, right:\",u,d,l,r)\n",
    "print(\"half down, half right:\",d//2,r//2)\n",
    "print(\"mean of border:\", np.mean(nborder[1]),np.mean(nborder[0]))\n",
    "plt.imshow(new_img, cmap=\"gray\")\n",
    "plt.scatter(x=(r)//2, y= (d)//2, color = \"orange\")\n",
    "plt.scatter(x=np.mean(nborder[1]),y=np.mean(nborder[0]), color=\"magenta\")"
   ]
  },
  {
   "cell_type": "code",
   "execution_count": null,
   "metadata": {},
   "outputs": [],
   "source": [
    "struct_el = morphology.disk(10)\n",
    "mask_eroded = morphology.binary_erosion(new_img, struct_el)\n",
    "image_perimeter = new_img-mask_eroded\n",
    "\n",
    "non_flipped, flipped = image_perimeter[:,:r//2+1], np.flip(image_perimeter[:,r//2:],1)\n",
    "flipped_im = np.flip(image_perimeter,1)\n",
    "overlap = non_flipped.copy()\n",
    "overlap[flipped==1] = 1\n",
    "\n",
    "flipped_nonzero = np.count_nonzero(flipped_im)\n",
    "overlap_nonzero = np.count_nonzero(non_flipped)\n",
    "print(\"flipped nonzero:\",flipped_nonzero)\n",
    "print(\"nonflipped nonzero:\",overlap_nonzero)\n",
    "print(\"flipped - nonflipped\", flipped_nonzero - overlap_nonzero)\n",
    "\n",
    "fig, ax = plt.subplots(1,3)\n",
    "ax[0].imshow(non_flipped, cmap=\"gray\")\n",
    "ax[1].imshow(flipped, cmap=\"gray\")\n",
    "ax[2].imshow(overlap, cmap=\"gray\")"
   ]
  },
  {
   "cell_type": "code",
   "execution_count": null,
   "metadata": {},
   "outputs": [],
   "source": [
    "#Rotation of image\n",
    "fig,ax = plt.subplots(19,3, figsize=(16,20))\n",
    "image_perimeter = new_img-mask_eroded\n",
    "nonflipped_list = []\n",
    "nonzero_list = []\n",
    "for angle in range(0,181,10):\n",
    "    rotated_image = transform.rotate(image_perimeter, angle)\n",
    "    non_flipped, flipped = rotated_image[:,:r//2+1], np.flip(rotated_image[:,r//2:],1)\n",
    "    overlap = non_flipped.copy()\n",
    "    overlap[flipped==1] = 1\n",
    "    height, width = non_flipped.shape\n",
    "    area = height*width\n",
    "    flipped_nonzero = np.count_nonzero(flipped_im)\n",
    "    overlap_nonzero = np.count_nonzero(overlap)\n",
    "    nonflipped_list.append(flipped_nonzero//flipped_nonzero*100)\n",
    "    nonzero_list.append(abs(overlap_nonzero//flipped_nonzero*100))\n",
    "    \n",
    "    ax[angle//10,0].imshow(non_flipped)\n",
    "    ax[angle//10,1].imshow(flipped)\n",
    "    ax[angle//10,2].imshow(overlap)\n",
    "    \n",
    "    #ax[angle//60].imshow(overlap, cmap=\"gray\")\n",
    "print(list(zip(nonflipped_list, nonzero_list)))    \n",
    "list_min = min(nonzero_list)\n",
    "overlap_angle = nonzero_list.index(list_min)\n",
    "most_overlap_im = transform.rotate(image_perimeter, overlap_angle*10)\n",
    "left, right = most_overlap_im[:,:r//2+1], np.flip(most_overlap_im[:,r//2:],1)\n",
    "overlapp = left.copy()\n",
    "overlapp[right==1] = 1 \n",
    "\n",
    "fig, ax = plt.subplots(1,3)\n",
    "ax[0].imshow(left, cmap=\"gray\")\n",
    "ax[1].imshow(right, cmap=\"gray\")\n",
    "ax[2].imshow(overlapp, cmap=\"gray\")\n",
    "#.index(item)"
   ]
  },
  {
   "cell_type": "code",
   "execution_count": null,
   "metadata": {},
   "outputs": [],
   "source": [
    "fig, ax = plt.subplots(1,2)\n",
    "ax[0].imshow(im[up:down, left:right])\n",
    "ax[1].imshow(segment_one[up:down, left:right], cmap = \"gray\")\n",
    "#ax[1].scatter(x=center[1],y=center[0]) #remember to recalculate \"center\"\n",
    "print(up,down,left,right)"
   ]
  },
  {
   "cell_type": "code",
   "execution_count": null,
   "metadata": {},
   "outputs": [],
   "source": [
    "print(\"Dimensions of Image 1: {} \\nDimensions of Segmentation 1: {}\".format(im.ndim, segment_one.ndim))\n",
    "print()\n",
    "print(\"Shape of Image 1: {} \\nShape of Segmentation 1: {}\".format(im.shape, segment_one.shape))"
   ]
  },
  {
   "cell_type": "code",
   "execution_count": null,
   "metadata": {},
   "outputs": [],
   "source": [
    "#PIL Imaging\n",
    "img1 = Image.open(location[\"image\"]+image+\".jpg\")\n",
    "img2 = Image.open(location[\"segmentation\"]+image+seg_suffix)\n",
    "\n",
    "img2.paste(img1, (0,0), mask = img2)\n",
    "\n",
    "plt.imshow(img2, cmap = \"gray\")\n",
    "print(img2.size)"
   ]
  },
  {
   "cell_type": "code",
   "execution_count": null,
   "metadata": {},
   "outputs": [],
   "source": [
    "img1 = im.copy()\n",
    "img1[segment_one==0]=0\n",
    "plt.imshow(img1)\n",
    "print(img1[img1!=0].shape)\n",
    "print(img1.shape[0]*img1.shape[1])\n",
    "print(np.sum(img1))\n",
    "print(np.sum(segment_one))"
   ]
  },
  {
   "cell_type": "code",
   "execution_count": null,
   "metadata": {},
   "outputs": [],
   "source": [
    "unfiltered_images = listdir(\"fyp2021p03q10/data/example_image/\")\n",
    "filter_img = [i.strip(\".jpg\") for i in unfiltered_images if \".jpg\" in i]"
   ]
  },
  {
   "cell_type": "code",
   "execution_count": null,
   "metadata": {},
   "outputs": [],
   "source": [
    "fig, ax = plt.subplots(15,10, figsize = (30,20))\n",
    "ax0 = 0\n",
    "ax1 = 0\n",
    "for i in filter_img:\n",
    "    temp_img = plt.imread(location[\"image\"]+i+\".jpg\")\n",
    "    ax[ax0,ax1].imshow(temp_img)\n",
    "    ax1 += 1\n",
    "    if ax1 >9:\n",
    "        ax1=0\n",
    "        ax0+= 1\n",
    "        "
   ]
  },
  {
   "cell_type": "code",
   "execution_count": null,
   "metadata": {},
   "outputs": [],
   "source": [
    "fig, ax = plt.subplots(15,10, figsize = (80,40))\n",
    "ax0 = 0\n",
    "ax1 = 0\n",
    "for i in filter_img:\n",
    "    temp_img = plt.imread(location[\"segmentation\"]+i+seg_suffix)\n",
    "    border = np.where(temp_img != 0)\n",
    "    u,d,l,r = min(border[0]), max(border[0]), min(border[1]), max(border[1])\n",
    "    zoom_border = np.where(temp_img[u:d,l:r] != 0)\n",
    "    down, right = max(zoom_border[1]), max(zoom_border[0])\n",
    "    ax[ax0,ax1].imshow(temp_img[u:d,l:r], cmap = \"gray\")\n",
    "    ax[ax0,ax1].scatter(x=np.mean(zoom_border[1]),y=np.mean(zoom_border[0]),color=\"darkred\", alpha = 0.9, s = 100)\n",
    "    ax[ax0,ax1].scatter(x=down//2,y=right//2, color = \"blue\", s = 100)\n",
    "    ax1 += 1\n",
    "    if ax1 >9:\n",
    "        ax1=0\n",
    "        ax0+= 1\n"
   ]
  },
  {
   "cell_type": "code",
   "execution_count": null,
   "metadata": {},
   "outputs": [],
   "source": [
    "%%bash\n",
    "cd"
   ]
  },
  {
   "cell_type": "code",
   "execution_count": null,
   "metadata": {},
   "outputs": [],
   "source": [
    "im.shape()"
   ]
  },
  {
   "cell_type": "code",
   "execution_count": null,
   "metadata": {},
   "outputs": [],
   "source": [
    "#https://scikit-image.org/docs/dev/api/skimage.draw.html\n",
    "from skimage import data, color, img_as_ubyte\n",
    "from skimage.feature import canny\n",
    "from skimage.transform import hough_ellipse\n",
    "from skimage.draw import ellipse_perimeter\n",
    "\n",
    "# Load picture, convert to grayscale and detect edges\n",
    "image_rgb = im.copy()\n",
    "image_gray = color.rgb2gray(image_rgb)\n",
    "edges = canny(image_gray, sigma=2.0,\n",
    "              low_threshold=0.55, high_threshold=0.8)\n",
    "\n",
    "# Perform a Hough Transform\n",
    "# The accuracy corresponds to the bin size of a major axis.\n",
    "# The value is chosen in order to get a single high accumulator.\n",
    "# The threshold eliminates low accumulators\n",
    "result = hough_ellipse(edges, accuracy=20, threshold=250,\n",
    "                       min_size=100, max_size=120)\n",
    "result.sort(order='accumulator')\n",
    "\n",
    "# Estimated parameters for the ellipse\n",
    "best = list(result[-1])\n",
    "yc, xc, a, b = [int(round(x)) for x in best[1:5]]\n",
    "orientation = best[5]\n",
    "\n",
    "# Draw the ellipse on the original image\n",
    "cy, cx = ellipse_perimeter(yc, xc, a, b, orientation)\n",
    "image_rgb[cy, cx] = (0, 0, 255)\n",
    "# Draw the edge (white) and the resulting ellipse (red)\n",
    "edges = color.gray2rgb(img_as_ubyte(edges))\n",
    "edges[cy, cx] = (250, 0, 0)\n",
    "edges[a,b] = (250,0,0)\n",
    "\n",
    "fig2, (ax1, ax2) = plt.subplots(ncols=2, nrows=1, figsize=(8, 4),\n",
    "                                sharex=True, sharey=True)\n",
    "\n",
    "ax1.set_title('Original picture')\n",
    "ax1.imshow(image_rgb)\n",
    "\n",
    "ax2.set_title('Edge (white) and result (red)')\n",
    "ax2.imshow(edges)\n",
    "\n"
   ]
  },
  {
   "cell_type": "code",
   "execution_count": null,
   "metadata": {},
   "outputs": [],
   "source": [
    "first_im = im.copy()\n",
    "plt.imshow(im)"
   ]
  },
  {
   "cell_type": "code",
   "execution_count": null,
   "metadata": {},
   "outputs": [],
   "source": []
  }
 ],
 "metadata": {
  "kernelspec": {
   "display_name": "Python 3",
   "language": "python",
   "name": "python3"
  },
  "language_info": {
   "codemirror_mode": {
    "name": "ipython",
    "version": 3
   },
   "file_extension": ".py",
   "mimetype": "text/x-python",
   "name": "python",
   "nbconvert_exporter": "python",
   "pygments_lexer": "ipython3",
   "version": "3.8.3"
  }
 },
 "nbformat": 4,
 "nbformat_minor": 4
}
