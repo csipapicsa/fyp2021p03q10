{
 "cells": [
  {
   "cell_type": "code",
   "execution_count": 1,
   "metadata": {},
   "outputs": [
    {
     "name": "stdout",
     "output_type": "stream",
     "text": [
      "Non-user install because site-packages writeable\n",
      "Created temporary directory: /private/var/folders/z9/fv4hdlbn0f1_l1flbvzzllzw0000gn/T/pip-ephem-wheel-cache-5t6jdtbz\n",
      "Created temporary directory: /private/var/folders/z9/fv4hdlbn0f1_l1flbvzzllzw0000gn/T/pip-req-tracker-ett3ag8j\n",
      "Initialized build tracking at /private/var/folders/z9/fv4hdlbn0f1_l1flbvzzllzw0000gn/T/pip-req-tracker-ett3ag8j\n",
      "Created build tracker: /private/var/folders/z9/fv4hdlbn0f1_l1flbvzzllzw0000gn/T/pip-req-tracker-ett3ag8j\n",
      "Entered build tracker: /private/var/folders/z9/fv4hdlbn0f1_l1flbvzzllzw0000gn/T/pip-req-tracker-ett3ag8j\n",
      "Created temporary directory: /private/var/folders/z9/fv4hdlbn0f1_l1flbvzzllzw0000gn/T/pip-install-_c54k3m8\n",
      "\u001b[31mERROR: File \"setup.py\" not found. Directory cannot be installed in editable mode: /Users/FrederikFischlein/Documents/Data_Science/First Year Project/fyp2021p03q10/notebooks\u001b[0m\n",
      "Exception information:\n",
      "Traceback (most recent call last):\n",
      "  File \"/Users/FrederikFischlein/opt/anaconda3/lib/python3.8/site-packages/pip/_internal/cli/base_command.py\", line 188, in _main\n",
      "    status = self.run(options, args)\n",
      "  File \"/Users/FrederikFischlein/opt/anaconda3/lib/python3.8/site-packages/pip/_internal/cli/req_command.py\", line 185, in wrapper\n",
      "    return func(self, options, args)\n",
      "  File \"/Users/FrederikFischlein/opt/anaconda3/lib/python3.8/site-packages/pip/_internal/commands/install.py\", line 300, in run\n",
      "    reqs = self.get_requirements(\n",
      "  File \"/Users/FrederikFischlein/opt/anaconda3/lib/python3.8/site-packages/pip/_internal/cli/req_command.py\", line 329, in get_requirements\n",
      "    req_to_add = install_req_from_editable(\n",
      "  File \"/Users/FrederikFischlein/opt/anaconda3/lib/python3.8/site-packages/pip/_internal/req/constructors.py\", line 229, in install_req_from_editable\n",
      "    parts = parse_req_from_editable(editable_req)\n",
      "  File \"/Users/FrederikFischlein/opt/anaconda3/lib/python3.8/site-packages/pip/_internal/req/constructors.py\", line 201, in parse_req_from_editable\n",
      "    name, url, extras_override = parse_editable(editable_req)\n",
      "  File \"/Users/FrederikFischlein/opt/anaconda3/lib/python3.8/site-packages/pip/_internal/req/constructors.py\", line 109, in parse_editable\n",
      "    raise InstallationError(msg)\n",
      "pip._internal.exceptions.InstallationError: File \"setup.py\" not found. Directory cannot be installed in editable mode: /Users/FrederikFischlein/Documents/Data_Science/First Year Project/fyp2021p03q10/notebooks\n",
      "Removed build tracker: '/private/var/folders/z9/fv4hdlbn0f1_l1flbvzzllzw0000gn/T/pip-req-tracker-ett3ag8j'\n",
      "Note: you may need to restart the kernel to use updated packages.\n"
     ]
    }
   ],
   "source": [
    "pip install -e . -vv"
   ]
  },
  {
   "cell_type": "code",
   "execution_count": null,
   "metadata": {},
   "outputs": [],
   "source": []
  }
 ],
 "metadata": {
  "kernelspec": {
   "display_name": "Python 3",
   "language": "python",
   "name": "python3"
  },
  "language_info": {
   "codemirror_mode": {
    "name": "ipython",
    "version": 3
   },
   "file_extension": ".py",
   "mimetype": "text/x-python",
   "name": "python",
   "nbconvert_exporter": "python",
   "pygments_lexer": "ipython3",
   "version": "3.8.3"
  }
 },
 "nbformat": 4,
 "nbformat_minor": 4
}
