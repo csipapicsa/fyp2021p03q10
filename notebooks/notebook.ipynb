{
 "cells": [
  {
   "cell_type": "markdown",
   "metadata": {},
   "source": [
    "# Imports"
   ]
  },
  {
   "cell_type": "code",
   "execution_count": 1,
   "metadata": {},
   "outputs": [],
   "source": [
    "import matplotlib.pyplot as plt\n",
    "import numpy as np\n",
    "from PIL import Image "
   ]
  },
  {
   "cell_type": "code",
   "execution_count": 2,
   "metadata": {},
   "outputs": [
    {
     "name": "stderr",
     "output_type": "stream",
     "text": [
      "'rm' is not recognized as an internal or external command,\n",
      "operable program or batch file.\n",
      "Cloning into 'fyp2021p3'...\n",
      "Updating files:   0% (3/366)\n",
      "Updating files:   1% (4/366)\n",
      "Updating files:   2% (8/366)\n",
      "Updating files:   2% (9/366)\n",
      "Updating files:   3% (11/366)\n",
      "Updating files:   3% (12/366)\n",
      "Updating files:   3% (13/366)\n",
      "Updating files:   4% (15/366)\n",
      "Updating files:   4% (16/366)\n",
      "Updating files:   5% (19/366)\n",
      "Updating files:   6% (22/366)\n",
      "Updating files:   6% (24/366)\n",
      "Updating files:   7% (26/366)\n",
      "Updating files:   7% (29/366)\n",
      "Updating files:   8% (30/366)\n",
      "Updating files:   8% (31/366)\n",
      "Updating files:   9% (33/366)\n",
      "Updating files:  10% (37/366)\n",
      "Updating files:  10% (40/366)\n",
      "Updating files:  11% (41/366)\n",
      "Updating files:  11% (43/366)\n",
      "Updating files:  12% (44/366)\n",
      "Updating files:  12% (45/366)\n",
      "Updating files:  12% (46/366)\n",
      "Updating files:  12% (47/366)\n",
      "Updating files:  13% (48/366)\n",
      "Updating files:  13% (50/366)\n",
      "Updating files:  13% (51/366)\n",
      "Updating files:  14% (52/366)\n",
      "Updating files:  14% (53/366)\n",
      "Updating files:  15% (55/366)\n",
      "Updating files:  15% (56/366)\n",
      "Updating files:  16% (59/366)\n",
      "Updating files:  16% (60/366)\n",
      "Updating files:  16% (62/366)\n",
      "Updating files:  17% (63/366)\n",
      "Updating files:  18% (66/366)\n",
      "Updating files:  18% (69/366)\n",
      "Updating files:  19% (70/366)\n",
      "Updating files:  19% (71/366)\n",
      "Updating files:  19% (72/366)\n",
      "Updating files:  20% (74/366)\n",
      "Updating files:  21% (77/366)\n",
      "Updating files:  21% (80/366)\n",
      "Updating files:  22% (81/366)\n",
      "Updating files:  23% (85/366)\n",
      "Updating files:  23% (86/366)\n",
      "Updating files:  24% (88/366)\n",
      "Updating files:  25% (92/366)\n",
      "Updating files:  25% (94/366)\n",
      "Updating files:  26% (96/366)\n",
      "Updating files:  27% (99/366)\n",
      "Updating files:  28% (103/366)\n",
      "Updating files:  29% (107/366)\n",
      "Updating files:  30% (110/366)\n",
      "Updating files:  30% (111/366)\n",
      "Updating files:  31% (114/366)\n",
      "Updating files:  32% (118/366)\n",
      "Updating files:  32% (120/366)\n",
      "Updating files:  33% (121/366)\n",
      "Updating files:  33% (124/366)\n",
      "Updating files:  34% (125/366)\n",
      "Updating files:  35% (129/366)\n",
      "Updating files:  35% (130/366)\n",
      "Updating files:  36% (132/366)\n",
      "Updating files:  37% (136/366)\n",
      "Updating files:  37% (137/366)\n",
      "Updating files:  38% (140/366)\n",
      "Updating files:  39% (143/366)\n",
      "Updating files:  39% (144/366)\n",
      "Updating files:  40% (147/366)\n",
      "Updating files:  41% (151/366)\n",
      "Updating files:  42% (154/366)\n",
      "Updating files:  43% (158/366)\n",
      "Updating files:  43% (160/366)\n",
      "Updating files:  43% (161/366)\n",
      "Updating files:  44% (162/366)\n",
      "Updating files:  45% (165/366)\n",
      "Updating files:  45% (167/366)\n",
      "Updating files:  46% (169/366)\n",
      "Updating files:  46% (171/366)\n",
      "Updating files:  47% (173/366)\n",
      "Updating files:  47% (175/366)\n",
      "Updating files:  48% (176/366)\n",
      "Updating files:  48% (177/366)\n",
      "Updating files:  48% (179/366)\n",
      "Updating files:  49% (180/366)\n",
      "Updating files:  50% (183/366)\n",
      "Updating files:  51% (187/366)\n",
      "Updating files:  51% (189/366)\n",
      "Updating files:  52% (191/366)\n",
      "Updating files:  53% (194/366)\n",
      "Updating files:  53% (195/366)\n",
      "Updating files:  54% (198/366)\n",
      "Updating files:  54% (199/366)\n",
      "Updating files:  54% (201/366)\n",
      "Updating files:  55% (202/366)\n",
      "Updating files:  55% (203/366)\n",
      "Updating files:  56% (205/366)\n",
      "Updating files:  56% (207/366)\n",
      "Updating files:  57% (209/366)\n",
      "Updating files:  57% (211/366)\n",
      "Updating files:  58% (213/366)\n",
      "Updating files:  59% (216/366)\n",
      "Updating files:  60% (220/366)\n",
      "Updating files:  61% (224/366)\n",
      "Updating files:  62% (227/366)\n",
      "Updating files:  63% (231/366)\n",
      "Updating files:  64% (235/366)\n",
      "Updating files:  65% (238/366)\n",
      "Updating files:  66% (242/366)\n",
      "Updating files:  67% (246/366)\n",
      "Updating files:  68% (249/366)\n",
      "Updating files:  69% (253/366)\n",
      "Updating files:  70% (257/366)\n",
      "Updating files:  71% (260/366)\n",
      "Updating files:  72% (264/366)\n",
      "Updating files:  73% (268/366)\n",
      "Updating files:  74% (271/366)\n",
      "Updating files:  75% (275/366)\n",
      "Updating files:  76% (279/366)\n",
      "Updating files:  77% (282/366)\n",
      "Updating files:  78% (286/366)\n",
      "Updating files:  79% (290/366)\n",
      "Updating files:  80% (293/366)\n",
      "Updating files:  81% (297/366)\n",
      "Updating files:  82% (301/366)\n",
      "Updating files:  83% (304/366)\n",
      "Updating files:  84% (308/366)\n",
      "Updating files:  85% (312/366)\n",
      "Updating files:  86% (315/366)\n",
      "Updating files:  87% (319/366)\n",
      "Updating files:  88% (323/366)\n",
      "Updating files:  89% (326/366)\n",
      "Updating files:  90% (330/366)\n",
      "Updating files:  91% (334/366)\n",
      "Updating files:  92% (337/366)\n",
      "Updating files:  93% (341/366)\n",
      "Updating files:  94% (345/366)\n",
      "Updating files:  95% (348/366)\n",
      "Updating files:  96% (352/366)\n",
      "Updating files:  97% (356/366)\n",
      "Updating files:  98% (359/366)\n",
      "Updating files:  99% (363/366)\n",
      "Updating files: 100% (366/366)\n",
      "Updating files: 100% (366/366), done.\n"
     ]
    }
   ],
   "source": [
    "# Load an image and display it\n",
    "\n",
    "im = plt.imread('fyp2021p3/data/example_image/ISIC_0001769.jpg')\n",
    "plt.imshow(im)"
   ]
  },
  {
   "cell_type": "code",
   "execution_count": null,
   "metadata": {},
   "outputs": [],
   "source": [
    "#A color image is a array with 3 dimensions (x, y, R-G-B color channels) of integers\n",
    "\n",
    "print(im.shape)\n",
    "print(im.dtype)\n",
    "\n",
    "#Other packages might wrap the image in a different class - you are allowed to use those if you want\n"
   ]
  },
  {
   "cell_type": "code",
   "execution_count": null,
   "metadata": {},
   "outputs": [],
   "source": [
    "# Get a single RGB value from the blue circle (marker used by dermatologist)\n",
    "print(im[2000,2000,:])\n",
    "\n",
    "# Show only the red channel\n",
    "plt.imshow(im[:,:,0], cmap='gray')\n",
    "\n"
   ]
  },
  {
   "cell_type": "code",
   "execution_count": null,
   "metadata": {},
   "outputs": [],
   "source": [
    "# Display only a part of the image\n",
    "\n",
    "im_part = im[60:120,130:220,:]\n",
    "plt.imshow(im_part)"
   ]
  },
  {
   "cell_type": "code",
   "execution_count": null,
   "metadata": {},
   "outputs": [],
   "source": [
    "# Modify the image by setting some pixels to black\n",
    "\n",
    "im_copy = im_part.copy()\n",
    "\n",
    "\n",
    "im_copy[0:10,0:10,:] = np.tile(0, [10, 10, 3])\n",
    "plt.imshow(im_copy)"
   ]
  },
  {
   "cell_type": "code",
   "execution_count": null,
   "metadata": {},
   "outputs": [],
   "source": [
    "mask=plt.imread('fyp2021p3/data/example_segmentation/ISIC_0001769_segmentation.png')\n",
    "plt.imshow(mask, cmap='gray')"
   ]
  },
  {
   "cell_type": "code",
   "execution_count": null,
   "metadata": {},
   "outputs": [],
   "source": [
    "fig, axes = plt.subplots(nrows=1, ncols=2, figsize=(5, 3))\n",
    "axes[0].imshow(im)\n",
    "axes[1].imshow(mask, cmap='gray')\n",
    "fig.tight_layout()"
   ]
  },
  {
   "cell_type": "code",
   "execution_count": null,
   "metadata": {},
   "outputs": [],
   "source": [
    "# Load images as Image objects  \n",
    "img1 = Image.open('fyp2021p3/data/example_image/ISIC_0001769.jpg') \n",
    "img2 = Image.open('fyp2021p3/data/example_segmentation/ISIC_0001769_segmentation.png') \n",
    "  \n",
    "# Overlay - more options such as transparency should be available here  \n",
    "img2.paste(img1, (0,0), mask = img2) \n",
    "  \n",
    "# Display \n",
    "img2.show()  # This doesn't actually display an image in Google Colab :(\n",
    "plt.imshow(img2, cmap='gray')\n",
    "\n",
    "\n",
    "# Note that this is a single channel image\n",
    "print(img2.size) "
   ]
  },
  {
   "cell_type": "code",
   "execution_count": null,
   "metadata": {},
   "outputs": [],
   "source": [
    "# Alternative: replace the non-lesion pixels\n",
    "\n",
    "img1 = im.copy()\n",
    "img1[mask==0] = 0\n",
    "  \n",
    "# Display \n",
    "plt.imshow(img1)\n",
    "\n",
    "# You can use any package you prefer, but beware you might need to convert between formats"
   ]
  },
  {
   "cell_type": "code",
   "execution_count": null,
   "metadata": {},
   "outputs": [],
   "source": [
    "def rgb2gray(rgb):\n",
    "\n",
    "    r, g, b = rgb[:,:,0], rgb[:,:,1], rgb[:,:,2]\n",
    "    gray = 0.2989 * r + 0.5870 * g + 0.1140 * b\n",
    "\n",
    "    return gray\n",
    "\n",
    "img1 = plt.imread('fyp2021p3/data/example_image/ISIC_0001769.jpg')\n",
    "gray = rgb2gray(img1)\n",
    "\n",
    "plt.imshow(gray, cmap='gray')"
   ]
  },
  {
   "cell_type": "code",
   "execution_count": null,
   "metadata": {},
   "outputs": [],
   "source": [
    "plt.hist(gray)"
   ]
  },
  {
   "cell_type": "code",
   "execution_count": null,
   "metadata": {},
   "outputs": [],
   "source": [
    "img2 = gray < 120\n",
    "plt.imshow(img2, cmap='gray')"
   ]
  },
  {
   "cell_type": "markdown",
   "metadata": {},
   "source": [
    "# Task 1"
   ]
  },
  {
   "cell_type": "code",
   "execution_count": null,
   "metadata": {},
   "outputs": [],
   "source": []
  },
  {
   "cell_type": "markdown",
   "metadata": {},
   "source": [
    "# Task 2"
   ]
  },
  {
   "cell_type": "markdown",
   "metadata": {},
   "source": [
    "# Task 3"
   ]
  },
  {
   "cell_type": "markdown",
   "metadata": {},
   "source": [
    "# Task 4"
   ]
  },
  {
   "cell_type": "code",
   "execution_count": null,
   "metadata": {},
   "outputs": [],
   "source": []
  },
  {
   "cell_type": "code",
   "execution_count": null,
   "metadata": {},
   "outputs": [],
   "source": []
  }
 ],
 "metadata": {
  "kernelspec": {
   "display_name": "Python 3",
   "language": "python",
   "name": "python3"
  },
  "language_info": {
   "codemirror_mode": {
    "name": "ipython",
    "version": 3
   },
   "file_extension": ".py",
   "mimetype": "text/x-python",
   "name": "python",
   "nbconvert_exporter": "python",
   "pygments_lexer": "ipython3",
   "version": "3.8.3"
  },
  "varInspector": {
   "cols": {
    "lenName": 16,
    "lenType": 16,
    "lenVar": 40
   },
   "kernels_config": {
    "python": {
     "delete_cmd_postfix": "",
     "delete_cmd_prefix": "del ",
     "library": "var_list.py",
     "varRefreshCmd": "print(var_dic_list())"
    },
    "r": {
     "delete_cmd_postfix": ") ",
     "delete_cmd_prefix": "rm(",
     "library": "var_list.r",
     "varRefreshCmd": "cat(var_dic_list()) "
    }
   },
   "types_to_exclude": [
    "module",
    "function",
    "builtin_function_or_method",
    "instance",
    "_Feature"
   ],
   "window_display": false
  }
 },
 "nbformat": 4,
 "nbformat_minor": 4
}
