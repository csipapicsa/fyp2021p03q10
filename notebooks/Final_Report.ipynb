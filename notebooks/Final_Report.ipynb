{
 "cells": [
  {
   "cell_type": "markdown",
   "metadata": {},
   "source": [
    "## Library imports"
   ]
  },
  {
   "cell_type": "code",
   "execution_count": 45,
   "metadata": {},
   "outputs": [],
   "source": [
    "import matplotlib.pyplot as plt\n",
    "import numpy as np\n",
    "from skimage import morphology\n",
    "from skimage.morphology import opening\n",
    "from skimage import filters\n",
    "from skimage import transform\n",
    "from functools import partial \n",
    "import pandas as pd\n",
    "from os import listdir\n",
    "import os\n",
    "from os import listdir\n",
    "from os.path import isfile, join\n",
    "import fyp2021p3_group00_functions as util\n",
    "import seaborn as sns\n",
    "import cv2, numpy as np\n",
    "from sklearn.cluster import KMeans\n",
    "from matplotlib import rcParams\n",
    "from PIL import Image\n",
    "import warnings"
   ]
  },
  {
   "cell_type": "markdown",
   "metadata": {},
   "source": [
    "# Define functions"
   ]
  },
  {
   "cell_type": "code",
   "execution_count": null,
   "metadata": {},
   "outputs": [],
   "source": [
    "# this code append the rgb values into a pandas dataframe\n",
    "\n",
    "def color_normalizer(arr, name):\n",
    "    #print(\"function\")\n",
    "    #print(arr)\n",
    "    counter = 1\n",
    "    for (percent, color) in arr:\n",
    "        #print(\"picture is \",name,\"  round \",counter)\n",
    "        c1 = int(color[0])\n",
    "        c2 = int(color[1])\n",
    "        c3 = int(color[2])\n",
    "        #print(\"colors are\\n\")\n",
    "        #print(c1,\"\",c2,\"\",c3)\n",
    "        #print(percent)\n",
    "        #print(name)\n",
    "        index = pics[pics['image_id'] == name].index.values\n",
    "        rowIndex = pics.index[index]\n",
    "        rgb_str = str(c1) + \",\" + str(c2) + \",\" + str(c3)\n",
    "        #print(\"this will be the rgb_str\\n\")\n",
    "        #print(rgb_str)\n",
    "        pics.loc[rowIndex, 'colorRGB_'+str(counter)] = rgb_str\n",
    "        pics.loc[rowIndex, 'occurence_of_colour_percent_'+str(counter)] = percent*100\n",
    "        #pics.loc[rowIndex, 'trial'] = color\n",
    "        #pics[name] = color\n",
    "        counter = counter + 1\n",
    "    None\n",
    "\n",
    "# function for most dominant colors\n",
    "def dominant_colors(cluster, centroids, name):\n",
    "    # Get the number of different clusters, create histogram, and normalize\n",
    "    labels = np.arange(0, len(np.unique(cluster.labels_)) + 1)\n",
    "    (hist, _) = np.histogram(cluster.labels_, bins = labels)\n",
    "    hist = hist.astype(\"float\")\n",
    "    #print(hist)\n",
    "    hist /= hist.sum()\n",
    "    # Create frequency rect and iterate through each cluster's color and percentage\n",
    "    rect = np.zeros((50, 300, 3), dtype=np.uint8)\n",
    "    colors = sorted([(percent, color) for (percent, color) in zip(hist, centroids)])\n",
    "    start = 0\n",
    "    color_normalizer(colors, name) \n",
    "    for (percent, color) in colors:\n",
    "        end = start + (percent * 300)\n",
    "        cv2.rectangle(rect, (int(start), 0), (int(end), 50), \\\n",
    "                      color.astype(\"uint8\").tolist(), -1)\n",
    "        start = end\n",
    "    return rect\n",
    "\n",
    "# function to rgb color to html color\n",
    "def clamp(x): \n",
    "  return max(0, min(x, 255))\n",
    "\n",
    "\n",
    "def border_overlap(image):\n",
    "    \"\"\"\n",
    "    Marks the border of a lesion, and divides this into left and rigt sub-images through the middle of the image.\n",
    "    the quotient of non-zero pixels between the two halves of the image overlayed and only the left side is calculated\n",
    "    and saved in a list. The image is then rotated 10 degrees, and the process is repeated, untill a rotation of 180\n",
    "    degrees have been made. Returns the minimum quotient stored in the list, and the rotation of the image required\n",
    "    to make that minimum, stored in degrees.\n",
    "    \"\"\"\n",
    "    struct_el = morphology.disk(10)\n",
    "    mask_eroded = morphology.binary_erosion(image, struct_el)\n",
    "    image_perimeter = image-mask_eroded #Making the border of the image only\n",
    "    right = image_perimeter.shape[1] #The width of the image, used to find the middle\n",
    "    nonzero_list = []\n",
    "    for angle in range(0,181,10):\n",
    "        rotated_image = transform.rotate(image_perimeter, angle) #Rotating the image by a multiple of 10 degrees\n",
    "        non_flipped, flipped = rotated_image[:,:int(right/2)], np.flip(rotated_image[:,int(right/2):],1) #dividing the image into left and right halves\n",
    "        dimension_diff = non_flipped.shape[1] - flipped.shape[1] #Finding possible differences in dimensions of the halves\n",
    "        non_flipped = rotated_image[:,:int(right/2)-dimension_diff] #Done to avoid dimensional comparison errors\n",
    "        overlap = non_flipped.copy() #Copying one half to ensure that we don't make shallow copies of the original image\n",
    "        overlap[flipped==1] = 1 #The actual overlay\n",
    "        flipped_nonzero = np.count_nonzero(flipped) #Calculates non-zero pixels of the right image\n",
    "        overlap_nonzero = np.count_nonzero(overlap) #Calculates non-zero pixels of the left image\n",
    "        nonzero_list.append(abs(overlap_nonzero/(flipped_nonzero+1)*100)) #Appends 'non-zero overlap / non-zero+1' left to a list, +1 to avoid division-by-zero\n",
    "    return(min(nonzero_list),nonzero_list.index(min(nonzero_list))) #Returns the minimum of the nonzero list after the image has been rotated 180 degrees\n",
    "\n",
    "def make_border_symmetry_csv(filepath):\n",
    "    \"\"\"\n",
    "    Function that takes image names from a filepath and returns the 'image_id' and contents of the 'border-overlap'\n",
    "    function to a .csv file called 'border_symmetry' in the data/processed folder.\n",
    "    \"\"\"\n",
    "    unfiltered_images = listdir(filepath) #Get the list of names of everything in the specified directory\n",
    "    filter_img = [i.strip(\".jpg\") for i in unfiltered_images if \".jpg\" in i] #Make list of only image names\n",
    "    most_overlap_list = [[\"image_id\", \"border_diff_percent\", \"rotation_amount_deg\"]] #list with headers for the csv file\n",
    "    for i in filter_img: #Loop through list\n",
    "        image = plt.imread(\"../data/example_segmentation/sm/\"+i+\"_segmentation.png\") #Load corresponding image segmentation of the image name\n",
    "        borders = np.where(image!=0) #Find non-zero elements of the image\n",
    "        up, down = min(borders[0]),max(borders[0]) #min and max height of image\n",
    "        left, right = min(borders[1]),max(borders[1]) #Min and max width of image\n",
    "        segment_image = image[up:down,left:right] #'Zoomed-in' image, discarding non-lesion parts of the image\n",
    "        j, k = border_overlap(segment_image) # Call to func border_overlap\n",
    "        most_overlap_list.append([i,j,k*10]) #Append image_id, border-quotient and degree-rotation to the list\n",
    "    np.savetxt(\"../data/processed/border_symmetry.csv\",\n",
    "        most_overlap_list, delimiter=\",\", fmt = \"% s\") #Turn list into .csv file in the data/processed folder\n",
    "    print('Make_border_symmetry_csv done') #Reassuring message that it went succesfully :)\n",
    "\n",
    "    "
   ]
  },
  {
   "cell_type": "markdown",
   "metadata": {},
   "source": [
    "# Read in raw datasets"
   ]
  },
  {
   "cell_type": "code",
   "execution_count": null,
   "metadata": {
    "scrolled": true
   },
   "outputs": [],
   "source": [
    "pics = pd.read_csv(\"../data/example_ground_truth.csv\", sep = \",\")\n",
    "pics_to_process = pd.read_csv(\"../data/processed/dominant_colors_raw.csv\", sep = \",\")"
   ]
  },
  {
   "cell_type": "markdown",
   "metadata": {},
   "source": [
    "# Search the 4 most dominant color of each picture"
   ]
  },
  {
   "cell_type": "markdown",
   "metadata": {},
   "source": [
    "Loop through a 25% smaller pictures. Code makes a pandas dataframe with 4 - 4 column (RGB code in string than occurance in %)"
   ]
  },
  {
   "cell_type": "code",
   "execution_count": null,
   "metadata": {
    "scrolled": true
   },
   "outputs": [],
   "source": [
    "WARN = input(\"This operation takes several minutes, the raw dataset is already exist. Do you wish to continue: (Yes/No) \")\n",
    "\n",
    "if WARN.lower().startswith(\"y\"):\n",
    "    print(\"\\n---It takes time --- \\n\")\n",
    "    for i in pics[\"image_id\"]:\n",
    "        #print(i)\n",
    "        # Alternative: replace the non-lesion pixels\n",
    "        im = plt.imread('../data/example_image/sm/'+i+'.jpg')\n",
    "        #plt.imshow(im)\n",
    "        img2 = im.copy()\n",
    "        mask=plt.imread('../data/example_segmentation/sm/'+i+'_segmentation.png')\n",
    "        img2[mask==0] = 0\n",
    "        #plt.imshow(img2)\n",
    "        image = cv2.cvtColor(img2, cv2.COLOR_BGR2RGB)\n",
    "        reshape = img2.reshape((img2.shape[0] * img2.shape[1], 3))\n",
    "        # Find and display most dominant colors\n",
    "        cluster = KMeans(n_clusters=5).fit(reshape)\n",
    "        visualize = dominant_colors(cluster, cluster.cluster_centers_, i)\n",
    "    display(pics)\n",
    "    pics.to_csv('../data/processed/dominant_colors_raw.csv')\n",
    "else:\n",
    "    print(\"Cancelled operation\")"
   ]
  },
  {
   "cell_type": "code",
   "execution_count": null,
   "metadata": {},
   "outputs": [],
   "source": [
    "# highest element check, also for a good masks\n",
    "for i in range(len(pics_to_process[\"image_id\"])):\n",
    "    txt = pics_to_process[\"colorRGB_5\"][i]\n",
    "    x = txt.split(\",\")\n",
    "    #print(pics_to_process[\"image_id\"][i],\" \",x)\n",
    "no_adjsutment_examples_column_5 = [\"ISIC_0009995\",\"ISIC_0014688\",\"ISIC_0014712\",\"ISIC_0014937\",\"ISIC_0015062\",\"ISIC_0015256\",\"ISIC_0015372\"]"
   ]
  },
  {
   "cell_type": "markdown",
   "metadata": {},
   "source": [
    "## Delete max values if they are the black areas and adjust the remain 4 dominant colors"
   ]
  },
  {
   "cell_type": "code",
   "execution_count": null,
   "metadata": {},
   "outputs": [],
   "source": [
    "for i in range(len(pics_to_process[\"image_id\"])):\n",
    "    txt = pics_to_process[\"colorRGB_5\"][i]\n",
    "    x = txt.split(\",\")\n",
    "    sumy = 0\n",
    "    for y in range(len(x)):\n",
    "        sumy = sumy + int(x[y])\n",
    "    if sumy > 0:\n",
    "        #print(pics_to_process[\"image_id\"][i],\" \",x)\n",
    "        None"
   ]
  },
  {
   "cell_type": "code",
   "execution_count": null,
   "metadata": {},
   "outputs": [],
   "source": [
    "# rearrange the non-black colours in column 5\n",
    "no_adjsutment_examples_column_5 = [\"ISIC_0009995\",\"ISIC_0014688\",\"ISIC_0014712\",\"ISIC_0014937\",\"ISIC_0015062\",\"ISIC_0015256\",\"ISIC_0015372\"]\n",
    "for i in range(len(pics_to_process[\"image_id\"])):\n",
    "    pic_id = pics_to_process[\"image_id\"][i]\n",
    "    if any(t == pic_id for t in no_adjsutment_examples_column_5):\n",
    "        index = pics_to_process[pics_to_process['image_id'] == pic_id].index.values\n",
    "        rowIndex = pics_to_process.index[index]\n",
    "        pics_to_process.loc[rowIndex, 'adjusted_bool'] = 0\n",
    "    else:\n",
    "        index = pics_to_process[pics_to_process['image_id'] == pic_id].index.values\n",
    "        rowIndex = pics_to_process.index[index]\n",
    "        pics_to_process.loc[rowIndex, 'adjusted_bool'] = 1\n",
    "        remains = 100 - pics_to_process[\"occurence_of_colour_percent_5\"][i]\n",
    "        for i in range(1,4+1):\n",
    "            new_occ_percent = (100/remains)*pics_to_process['occurence_of_colour_percent_'+str(i)]        \n",
    "            pics_to_process.loc[rowIndex, 'adjusted_percent'+str(1+i)] = new_occ_percent\n",
    "            None"
   ]
  },
  {
   "cell_type": "code",
   "execution_count": null,
   "metadata": {
    "scrolled": true
   },
   "outputs": [],
   "source": [
    "# final daztaset about dominant colours\n",
    "# it gives back lot of errors, bnut still functional\n",
    "pics_raw = pd.read_csv(\"../data/processed/dominant_colors_adjusted.csv\", sep = \",\")\n",
    "pics_raw.reset_index()\n",
    "pics_raw[\"RGB1\"] = 0\n",
    "pics_raw[\"RGB2\"] = 0\n",
    "pics_raw[\"RGB3\"] = 0\n",
    "pics_raw[\"RGB4\"] = 0\n",
    "pics_raw[\"RGB1_occ\"] = 0\n",
    "pics_raw[\"RGB2_occ\"] = 0\n",
    "pics_raw[\"RGB3_occ\"] = 0\n",
    "pics_raw[\"RGB4_occ\"] = 0\n",
    "for i in range(len(pics_raw[\"image_id\"])):\n",
    "    if pics_raw[\"adjusted_bool\"][i] == 1:\n",
    "        t = pics_raw[\"colorRGB_1\"][i]\n",
    "        pics_raw[\"RGB1\"][i] = t\n",
    "        pics_raw[\"RGB2\"][i] = pics_raw[\"colorRGB_2\"][i]\n",
    "        pics_raw[\"RGB3\"][i] = pics_raw[\"colorRGB_3\"][i]\n",
    "        pics_raw[\"RGB4\"][i] = pics_raw[\"colorRGB_4\"][i]\n",
    "        pics_raw[\"RGB1_occ\"][i] = pics_raw[\"adjusted_percent2\"][i]\n",
    "        pics_raw[\"RGB2_occ\"][i] = pics_raw[\"adjusted_percent3\"][i]\n",
    "        pics_raw[\"RGB3_occ\"][i] = pics_raw[\"adjusted_percent4\"][i]\n",
    "        pics_raw[\"RGB4_occ\"][i] = pics_raw[\"adjusted_percent5\"][i]\n",
    "    else:\n",
    "        pics_raw[\"RGB1\"][i] = pics_raw[\"colorRGB_2\"][i]\n",
    "        pics_raw[\"RGB2\"][i] = pics_raw[\"colorRGB_3\"][i]\n",
    "        pics_raw[\"RGB3\"][i] = pics_raw[\"colorRGB_4\"][i]\n",
    "        pics_raw[\"RGB4\"][i] = pics_raw[\"colorRGB_5\"][i]\n",
    "        pics_raw[\"RGB1_occ\"][i] = pics_raw[\"occurence_of_colour_percent_2\"][i]\n",
    "        pics_raw[\"RGB2_occ\"][i] = pics_raw[\"occurence_of_colour_percent_3\"][i]\n",
    "        pics_raw[\"RGB3_occ\"][i] = pics_raw[\"occurence_of_colour_percent_4\"][i]\n",
    "        pics_raw[\"RGB4_occ\"][i] = pics_raw[\"occurence_of_colour_percent_5\"][i]\n",
    "        \n",
    "pics_raw = pics_raw.drop(['colorRGB_1','colorRGB_2','colorRGB_3','colorRGB_4','colorRGB_5'],axis=1)\n",
    "pics_raw = pics_raw.drop(['occurence_of_colour_percent_1','occurence_of_colour_percent_2','occurence_of_colour_percent_3','occurence_of_colour_percent_4','occurence_of_colour_percent_5'],axis=1)\n",
    "pics_raw = pics_raw.drop(['adjusted_percent2','adjusted_percent3','adjusted_percent4','adjusted_percent5'],axis=1)\n",
    "\n",
    "# convert RGB codes into HTML codes\n",
    "\n",
    "# convert RGB to html colors\n",
    "color_list =[\"RGB1\",\"RGB2\",\"RGB3\",\"RGB4\"]\n",
    "for i in color_list:\n",
    "    pics_raw[i+\"html\"] = 0\n",
    "leng = len(dominant_color)\n",
    "for y in color_list:\n",
    "    for i,t in zip(range(leng),dominant_color[y]):\n",
    "        x = t.split(\",\")\n",
    "        c1,c2,c3 = int(x[0]),int(x[1]),int(x[2])\n",
    "        v = \"#{0:02x}{1:02x}{2:02x}\".format(clamp(c1), clamp(c2), clamp(c3))\n",
    "        pics_raw[y+\"html\"][i] = v\n",
    "        #print(v)\n",
    "        \n",
    "pics_raw[\"help_int_for_colors\"] = 0\n",
    "for i in range(len(pics_raw)):\n",
    "    if pics_raw[\"melanoma\"][i] == 1:\n",
    "        pics_raw[\"help_int_for_colors\"][i] = \"melanoma\"\n",
    "    elif pics_raw[\"seborrheic_keratosis\"][i] == 1:\n",
    "        pics_raw[\"help_int_for_colors\"][i] = \"keratosis\"\n",
    "    else:\n",
    "        pics_raw[\"help_int_for_colors\"][i] = \"healthy\"\n",
    "\n",
    "pics_raw.to_csv('../data/example_image/sm')"
   ]
  },
  {
   "cell_type": "markdown",
   "metadata": {},
   "source": [
    "## Make border_symmetry.csv file, based on state of \"make_csv_border\" variable"
   ]
  },
  {
   "cell_type": "markdown",
   "metadata": {},
   "source": [
    "### Set to True to make dataset, otherwise keep as false\n"
   ]
  },
  {
   "cell_type": "code",
   "execution_count": null,
   "metadata": {},
   "outputs": [],
   "source": [
    "# Might take a while to run\n",
    "make_csv_border = False\n",
    "\n",
    "if make_csv_border == True:\n",
    "    make_border_symmetry_csv(\"../data/example_image/sm\")"
   ]
  },
  {
   "cell_type": "markdown",
   "metadata": {},
   "source": [
    "## Merge datasets"
   ]
  },
  {
   "cell_type": "code",
   "execution_count": 46,
   "metadata": {},
   "outputs": [],
   "source": [
    "dominant_color = pd.read_csv(\"../data/processed/dominant_colors_final_dataset.csv\", sep = \",\")\n",
    "a_p = pd.read_csv(\"../features/features.csv\", sep = \",\")\n",
    "border_symmetry = pd.read_csv(\"../data/processed/border_symmetry.csv\", sep = \",\")\n",
    "border_symmetry = border_symmetry.drop(['image_id'],axis=1)\n",
    "dominant_color = dominant_color.drop(['Unnamed: 0','Unnamed: 0.1','adjusted_bool'],axis=1)\n",
    "final_df = pd.concat([dominant_color, border_symmetry,a_p], axis=1)\n",
    "final_df = final_df.drop(['Unnamed: 0.1.1',\"id\"],axis=1)\n",
    "final_df.to_csv('../data/processed/final_df.csv')"
   ]
  },
  {
   "cell_type": "markdown",
   "metadata": {},
   "source": [
    "## A useless diagram about the most dominant colors per each type of skin-disease"
   ]
  },
  {
   "cell_type": "code",
   "execution_count": 48,
   "metadata": {},
   "outputs": [
    {
     "data": {
      "image/png": "[encoded data removed]",
      "text/plain": [
       "<Figure size 1008x360 with 1 Axes>"
      ]
     },
     "metadata": {
      "needs_background": "light"
     },
     "output_type": "display_data"
    }
   ],
   "source": [
    "colors=final_df[\"RGB4html\"]\n",
    "fig, ax = plt.subplots(figsize=(14, 5))\n",
    "plt.scatter(final_df[\"RGB4_occ\"], \n",
    "            final_df[\"help_int_for_colors\"], \n",
    "            s=180, \n",
    "            c=colors, \n",
    "            alpha=1)\n",
    "\n",
    "#plt.figsize(10,6)\n",
    "plt.xlabel(\"Occurenace of the most dominant colors\",fontsize=18)\n",
    "plt.show()"
   ]
  },
  {
   "cell_type": "code",
   "execution_count": null,
   "metadata": {},
   "outputs": [],
   "source": [
    "rcParams['figure.figsize'] = 10,10\n",
    "sns.scatterplot(data=final_df, x=\"area\", y=\"perimeter\", hue=\"help_int_for_colors\", s=100);"
   ]
  },
  {
   "cell_type": "code",
   "execution_count": null,
   "metadata": {},
   "outputs": [],
   "source": [
    "df = final_df.drop(['RGB1','RGB2','RGB3','RGB4','RGB1_occ','RGB2_occ','RGB3_occ','RGB4_occ','RGB1html','RGB2html','RGB3html','RGB4html'],axis=1)\n",
    "sns.pairplot(df, hue=\"help_int_for_colors\",  height=3, diag_kind=\"hist\");"
   ]
  },
  {
   "cell_type": "code",
   "execution_count": null,
   "metadata": {},
   "outputs": [],
   "source": []
  }
 ],
 "metadata": {
  "kernelspec": {
   "display_name": "Python 3",
   "language": "python",
   "name": "python3"
  },
  "language_info": {
   "codemirror_mode": {
    "name": "ipython",
    "version": 3
   },
   "file_extension": ".py",
   "mimetype": "text/x-python",
   "name": "python",
   "nbconvert_exporter": "python",
   "pygments_lexer": "ipython3",
   "version": "3.8.3"
  }
 },
 "nbformat": 4,
 "nbformat_minor": 4
}
