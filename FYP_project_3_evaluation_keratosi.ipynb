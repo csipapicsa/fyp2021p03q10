{
 "cells": [
  {
   "cell_type": "markdown",
   "metadata": {
    "colab_type": "text",
    "id": "view-in-github"
   },
   "source": [
    "<a href=\"https://colab.research.google.com/github/csipapicsa/fyp2021p03q10/blob/main/FYP_project_3_evaluation_keratosi.ipynb\" target=\"_parent\"><img src=\"https://colab.research.google.com/assets/colab-badge.svg\" alt=\"Open In Colab\"/></a>"
   ]
  },
  {
   "cell_type": "markdown",
   "metadata": {
    "id": "2fQN_SBG0idm"
   },
   "source": [
    "## Get some images and import packages"
   ]
  },
  {
   "cell_type": "code",
   "execution_count": 1,
   "metadata": {
    "colab": {
     "base_uri": "https://localhost:8080/"
    },
    "id": "r8Nv2biGui3u",
    "outputId": "79dd44aa-2d34-4609-b0c7-867808cc116b"
   },
   "outputs": [
    {
     "name": "stdout",
     "output_type": "stream",
     "text": [
      "Cloning into 'fyp2021p3'...\n",
      "remote: Enumerating objects: 387, done.\u001b[K\n",
      "remote: Counting objects: 100% (13/13), done.\u001b[K\n",
      "remote: Compressing objects: 100% (13/13), done.\u001b[K\n",
      "remote: Total 387 (delta 6), reused 2 (delta 0), pack-reused 374\u001b[K\n",
      "Receiving objects: 100% (387/387), 855.59 MiB | 36.04 MiB/s, done.\n",
      "Resolving deltas: 100% (98/98), done.\n",
      "Checking out files: 100% (366/366), done.\n"
     ]
    }
   ],
   "source": [
    "if True:      #A weird trick needed for Google Colab\n",
    "  # Clone repository with example images \n",
    "  !rm -rf fyp2021p3\n",
    "  !git clone https://github.com/vcheplygina/fyp2021p3.git\n",
    "\n",
    "\n",
    "import matplotlib.pyplot as plt\n",
    "import numpy as np\n",
    "import pandas as pd\n"
   ]
  },
  {
   "cell_type": "markdown",
   "metadata": {
    "id": "vyiqoP1MEaKZ"
   },
   "source": [
    "# Load data"
   ]
  },
  {
   "cell_type": "code",
   "execution_count": 9,
   "metadata": {
    "colab": {
     "base_uri": "https://localhost:8080/"
    },
    "id": "nWaVMWpawvjr",
    "outputId": "b2b8829b-7e08-43ed-fc87-555f6d1a3467"
   },
   "outputs": [
    {
     "name": "stdout",
     "output_type": "stream",
     "text": [
      "   seborrheic_keratosis      area  perimeter\n",
      "0                   0.0  216160.0     2013.0\n",
      "1                   0.0  130493.0     1372.0\n",
      "2                   0.0  205116.0     1720.0\n",
      "3                   0.0  161705.0     1344.0\n",
      "4                   0.0  317040.0     2063.0\n"
     ]
    }
   ],
   "source": [
    "# Load features and labels\n",
    "\n",
    "file_data = 'fyp2021p3/data/example_ground_truth.csv'\n",
    "file_features = 'fyp2021p3/features/features.csv'\n",
    "\n",
    "df = pd.read_csv(file_data)\n",
    "features = pd.read_csv(file_features)\n",
    "\n",
    "\n",
    "# Combine variables we want in one place\n",
    "df = df.drop(['image_id','melanoma'],axis=1)\n",
    "df['area'] = features['area']\n",
    "df['perimeter'] = features['perimeter']\n",
    "\n",
    "print(df.head())\n"
   ]
  },
  {
   "cell_type": "markdown",
   "metadata": {
    "id": "jB16_s_1ebyQ"
   },
   "source": [
    "# Plots of features"
   ]
  },
  {
   "cell_type": "code",
   "execution_count": 10,
   "metadata": {
    "colab": {
     "base_uri": "https://localhost:8080/",
     "height": 293
    },
    "id": "Df3dV2UzsM4u",
    "outputId": "d8e88daf-9499-4690-e6fc-c2e1b60e3a04"
   },
   "outputs": [
    {
     "data": {
      "text/plain": [
       "<matplotlib.axes._subplots.AxesSubplot at 0x7fb87a313dd0>"
      ]
     },
     "execution_count": 10,
     "metadata": {
      "tags": []
     },
     "output_type": "execute_result"
    },
    {
     "data": {
      "image/png": "[encoded data removed]",
      "text/plain": [
       "<Figure size 432x288 with 1 Axes>"
      ]
     },
     "metadata": {
      "needs_background": "light",
      "tags": []
     },
     "output_type": "display_data"
    }
   ],
   "source": [
    "# Plots of features\n",
    "\n",
    "import seaborn as sns\n",
    "\n",
    "df1 = df[['area','perimeter']]\n",
    "sns.boxplot(data=df1, width=0.5)\n",
    "\n"
   ]
  },
  {
   "cell_type": "code",
   "execution_count": 11,
   "metadata": {
    "colab": {
     "base_uri": "https://localhost:8080/",
     "height": 316
    },
    "id": "naMYActIY2ZO",
    "outputId": "53818863-e7c9-4f91-98c3-000d500ae9a2"
   },
   "outputs": [
    {
     "name": "stdout",
     "output_type": "stream",
     "text": [
      "3.552713678800501e-17\n",
      "1.0\n"
     ]
    },
    {
     "data": {
      "text/plain": [
       "<matplotlib.axes._subplots.AxesSubplot at 0x7fb87a193590>"
      ]
     },
     "execution_count": 11,
     "metadata": {
      "tags": []
     },
     "output_type": "execute_result"
    },
    {
     "data": {
      "image/png": "[encoded data removed]",
      "text/plain": [
       "<Figure size 432x288 with 1 Axes>"
      ]
     },
     "metadata": {
      "needs_background": "light",
      "tags": []
     },
     "output_type": "display_data"
    }
   ],
   "source": [
    "# Let's scale the features\n",
    "from sklearn import preprocessing\n",
    "\n",
    "#Fit scaler on our data\n",
    "scaler = preprocessing.StandardScaler().fit(df1)\n",
    "\n",
    "#Apply to data itself\n",
    "df2 = scaler.transform(df1)\n",
    "\n",
    "print(df2.mean()) #small number close to 0, round of error\n",
    "print(df2.var())  #equal to 1 \n",
    "sns.boxplot(data=df2, width=0.5,fliersize=5) #we see both negative and positive values, since the mean is 0"
   ]
  },
  {
   "cell_type": "code",
   "execution_count": null,
   "metadata": {
    "id": "yZ-HkVWsblHB"
   },
   "outputs": [],
   "source": [
    "# df_max = df1 / df1.max()\n",
    "# [0, 0.1, 0.2, ..... 0.8, 10000]\n",
    "# [0, 0, 0,....... 1]"
   ]
  },
  {
   "cell_type": "code",
   "execution_count": 12,
   "metadata": {
    "colab": {
     "base_uri": "https://localhost:8080/",
     "height": 1000
    },
    "id": "y7cD0RwOVr5J",
    "outputId": "fff1097d-8d99-487d-ddf8-3510b5518e3c"
   },
   "outputs": [
    {
     "data": {
      "text/html": [
       "<div>\n",
       "<style scoped>\n",
       "    .dataframe tbody tr th:only-of-type {\n",
       "        vertical-align: middle;\n",
       "    }\n",
       "\n",
       "    .dataframe tbody tr th {\n",
       "        vertical-align: top;\n",
       "    }\n",
       "\n",
       "    .dataframe thead th {\n",
       "        text-align: right;\n",
       "    }\n",
       "</style>\n",
       "<table border=\"1\" class=\"dataframe\">\n",
       "  <thead>\n",
       "    <tr style=\"text-align: right;\">\n",
       "      <th></th>\n",
       "      <th>area</th>\n",
       "      <th>perimeter</th>\n",
       "    </tr>\n",
       "  </thead>\n",
       "  <tbody>\n",
       "    <tr>\n",
       "      <th>0</th>\n",
       "      <td>-0.493031</td>\n",
       "      <td>-0.674136</td>\n",
       "    </tr>\n",
       "    <tr>\n",
       "      <th>1</th>\n",
       "      <td>-0.507605</td>\n",
       "      <td>-0.795608</td>\n",
       "    </tr>\n",
       "    <tr>\n",
       "      <th>2</th>\n",
       "      <td>-0.494909</td>\n",
       "      <td>-0.729661</td>\n",
       "    </tr>\n",
       "    <tr>\n",
       "      <th>3</th>\n",
       "      <td>-0.502295</td>\n",
       "      <td>-0.800914</td>\n",
       "    </tr>\n",
       "    <tr>\n",
       "      <th>4</th>\n",
       "      <td>-0.475868</td>\n",
       "      <td>-0.664661</td>\n",
       "    </tr>\n",
       "    <tr>\n",
       "      <th>...</th>\n",
       "      <td>...</td>\n",
       "      <td>...</td>\n",
       "    </tr>\n",
       "    <tr>\n",
       "      <th>145</th>\n",
       "      <td>1.126062</td>\n",
       "      <td>1.554817</td>\n",
       "    </tr>\n",
       "    <tr>\n",
       "      <th>146</th>\n",
       "      <td>1.520243</td>\n",
       "      <td>2.642952</td>\n",
       "    </tr>\n",
       "    <tr>\n",
       "      <th>147</th>\n",
       "      <td>0.976942</td>\n",
       "      <td>1.562018</td>\n",
       "    </tr>\n",
       "    <tr>\n",
       "      <th>148</th>\n",
       "      <td>0.993111</td>\n",
       "      <td>1.548563</td>\n",
       "    </tr>\n",
       "    <tr>\n",
       "      <th>149</th>\n",
       "      <td>0.013433</td>\n",
       "      <td>0.602746</td>\n",
       "    </tr>\n",
       "  </tbody>\n",
       "</table>\n",
       "<p>150 rows × 2 columns</p>\n",
       "</div>"
      ],
      "text/plain": [
       "         area  perimeter\n",
       "0   -0.493031  -0.674136\n",
       "1   -0.507605  -0.795608\n",
       "2   -0.494909  -0.729661\n",
       "3   -0.502295  -0.800914\n",
       "4   -0.475868  -0.664661\n",
       "..        ...        ...\n",
       "145  1.126062   1.554817\n",
       "146  1.520243   2.642952\n",
       "147  0.976942   1.562018\n",
       "148  0.993111   1.548563\n",
       "149  0.013433   0.602746\n",
       "\n",
       "[150 rows x 2 columns]"
      ]
     },
     "metadata": {
      "tags": []
     },
     "output_type": "display_data"
    },
    {
     "data": {
      "text/html": [
       "<div>\n",
       "<style scoped>\n",
       "    .dataframe tbody tr th:only-of-type {\n",
       "        vertical-align: middle;\n",
       "    }\n",
       "\n",
       "    .dataframe tbody tr th {\n",
       "        vertical-align: top;\n",
       "    }\n",
       "\n",
       "    .dataframe thead th {\n",
       "        text-align: right;\n",
       "    }\n",
       "</style>\n",
       "<table border=\"1\" class=\"dataframe\">\n",
       "  <thead>\n",
       "    <tr style=\"text-align: right;\">\n",
       "      <th></th>\n",
       "      <th>seborrheic_keratosis</th>\n",
       "      <th>area</th>\n",
       "      <th>perimeter</th>\n",
       "    </tr>\n",
       "  </thead>\n",
       "  <tbody>\n",
       "    <tr>\n",
       "      <th>0</th>\n",
       "      <td>0.0</td>\n",
       "      <td>216160.0</td>\n",
       "      <td>2013.0</td>\n",
       "    </tr>\n",
       "    <tr>\n",
       "      <th>1</th>\n",
       "      <td>0.0</td>\n",
       "      <td>130493.0</td>\n",
       "      <td>1372.0</td>\n",
       "    </tr>\n",
       "    <tr>\n",
       "      <th>2</th>\n",
       "      <td>0.0</td>\n",
       "      <td>205116.0</td>\n",
       "      <td>1720.0</td>\n",
       "    </tr>\n",
       "    <tr>\n",
       "      <th>3</th>\n",
       "      <td>0.0</td>\n",
       "      <td>161705.0</td>\n",
       "      <td>1344.0</td>\n",
       "    </tr>\n",
       "    <tr>\n",
       "      <th>4</th>\n",
       "      <td>0.0</td>\n",
       "      <td>317040.0</td>\n",
       "      <td>2063.0</td>\n",
       "    </tr>\n",
       "    <tr>\n",
       "      <th>...</th>\n",
       "      <td>...</td>\n",
       "      <td>...</td>\n",
       "      <td>...</td>\n",
       "    </tr>\n",
       "    <tr>\n",
       "      <th>145</th>\n",
       "      <td>0.0</td>\n",
       "      <td>9732988.0</td>\n",
       "      <td>13775.0</td>\n",
       "    </tr>\n",
       "    <tr>\n",
       "      <th>146</th>\n",
       "      <td>0.0</td>\n",
       "      <td>12049938.0</td>\n",
       "      <td>19517.0</td>\n",
       "    </tr>\n",
       "    <tr>\n",
       "      <th>147</th>\n",
       "      <td>0.0</td>\n",
       "      <td>8856478.0</td>\n",
       "      <td>13813.0</td>\n",
       "    </tr>\n",
       "    <tr>\n",
       "      <th>148</th>\n",
       "      <td>0.0</td>\n",
       "      <td>8951522.0</td>\n",
       "      <td>13742.0</td>\n",
       "    </tr>\n",
       "    <tr>\n",
       "      <th>149</th>\n",
       "      <td>0.0</td>\n",
       "      <td>3193093.0</td>\n",
       "      <td>8751.0</td>\n",
       "    </tr>\n",
       "  </tbody>\n",
       "</table>\n",
       "<p>150 rows × 3 columns</p>\n",
       "</div>"
      ],
      "text/plain": [
       "     seborrheic_keratosis        area  perimeter\n",
       "0                     0.0    216160.0     2013.0\n",
       "1                     0.0    130493.0     1372.0\n",
       "2                     0.0    205116.0     1720.0\n",
       "3                     0.0    161705.0     1344.0\n",
       "4                     0.0    317040.0     2063.0\n",
       "..                    ...         ...        ...\n",
       "145                   0.0   9732988.0    13775.0\n",
       "146                   0.0  12049938.0    19517.0\n",
       "147                   0.0   8856478.0    13813.0\n",
       "148                   0.0   8951522.0    13742.0\n",
       "149                   0.0   3193093.0     8751.0\n",
       "\n",
       "[150 rows x 3 columns]"
      ]
     },
     "metadata": {
      "tags": []
     },
     "output_type": "display_data"
    },
    {
     "name": "stderr",
     "output_type": "stream",
     "text": [
      "/usr/local/lib/python3.7/dist-packages/seaborn/axisgrid.py:1969: UserWarning: The `size` parameter has been renamed to `height`; please update your code.\n",
      "  warnings.warn(msg, UserWarning)\n"
     ]
    },
    {
     "data": {
      "text/plain": [
       "<seaborn.axisgrid.PairGrid at 0x7fb87a033e10>"
      ]
     },
     "execution_count": 12,
     "metadata": {
      "tags": []
     },
     "output_type": "execute_result"
    },
    {
     "data": {
      "image/png": "[encoded data removed]",
      "text/plain": [
       "<Figure size 542.5x432 with 6 Axes>"
      ]
     },
     "metadata": {
      "needs_background": "light",
      "tags": []
     },
     "output_type": "display_data"
    }
   ],
   "source": [
    "#print(df2.dtype) #scaler lost df information :(\n",
    "df2 = pd.DataFrame(df2,columns=['area','perimeter'])\n",
    "display(df2)\n",
    "display(df)\n",
    "\n",
    "# Look at values per class\n",
    "df2['seborrheic_keratosis'] = df['seborrheic_keratosis']\n",
    "sns.pairplot(df2, hue=\"seborrheic_keratosis\", size=3,diag_kind=\"hist\")"
   ]
  },
  {
   "cell_type": "code",
   "execution_count": 13,
   "metadata": {
    "colab": {
     "base_uri": "https://localhost:8080/",
     "height": 280
    },
    "id": "TGaS5ABQbo9W",
    "outputId": "4c8105ab-9a06-4608-d8d3-cb668e700ea6"
   },
   "outputs": [
    {
     "data": {
      "image/png": "[encoded data removed]",
      "text/plain": [
       "<Figure size 432x288 with 1 Axes>"
      ]
     },
     "metadata": {
      "needs_background": "light",
      "tags": []
     },
     "output_type": "display_data"
    }
   ],
   "source": [
    "ax = sns.violinplot(x=\"seborrheic_keratosis\", y=\"area\", data=df2,size=8)"
   ]
  },
  {
   "cell_type": "markdown",
   "metadata": {
    "id": "_IiAcg1IeVWr"
   },
   "source": [
    "# Feature selection"
   ]
  },
  {
   "cell_type": "code",
   "execution_count": 15,
   "metadata": {
    "id": "ejLl4jF6gNND"
   },
   "outputs": [],
   "source": [
    "# Split the data before feature selection\n",
    "from sklearn.model_selection import train_test_split\n",
    "\n",
    "# Some noisy data not correlated\n",
    "noise = np.random.RandomState(42).uniform(0, 0.1, size=(df2.shape[0], 20))\n",
    "\n",
    "# Add the noisy data to the informative features\n",
    "X = np.hstack((df2[['area', 'perimeter']], noise))\n",
    "y = df2['seborrheic_keratosis']\n",
    "\n",
    "# Split dataset to select feature and evaluate the classifier\n",
    "X_dev, X_test, y_dev, y_test = train_test_split(\n",
    "        X, y, stratify=y, random_state=0)\n",
    "\n",
    "X_train, X_val, y_train, y_val = train_test_split(\n",
    "        X_dev, y_dev, stratify=y_dev)\n"
   ]
  },
  {
   "cell_type": "code",
   "execution_count": 16,
   "metadata": {
    "colab": {
     "base_uri": "https://localhost:8080/",
     "height": 283
    },
    "id": "3QVPVItqhDoF",
    "outputId": "9a646d51-c3b0-4d54-e339-2b29bc465160"
   },
   "outputs": [
    {
     "data": {
      "text/plain": [
       "<BarContainer object of 22 artists>"
      ]
     },
     "execution_count": 16,
     "metadata": {
      "tags": []
     },
     "output_type": "execute_result"
    },
    {
     "data": {
      "image/png": "[encoded data removed]",
      "text/plain": [
       "<Figure size 432x288 with 1 Axes>"
      ]
     },
     "metadata": {
      "needs_background": "light",
      "tags": []
     },
     "output_type": "display_data"
    }
   ],
   "source": [
    "# Univariate feature selection with mutual information for feature scoring\n",
    "from sklearn.feature_selection import mutual_info_classif, SelectKBest\n",
    "\n",
    "selector = SelectKBest(mutual_info_classif, k=2)\n",
    "selector.fit(X_train, y_train)\n",
    "\n",
    "scores = selector.scores_\n",
    "\n",
    "plt.bar(np.arange(0,22), scores, width=.2,\n",
    "        label=r'Feature score')"
   ]
  },
  {
   "cell_type": "markdown",
   "metadata": {
    "id": "x2zOXDF53nly"
   },
   "source": [
    "# Train several classifiers"
   ]
  },
  {
   "cell_type": "code",
   "execution_count": 17,
   "metadata": {
    "id": "GqG4wZOD3GKd"
   },
   "outputs": [],
   "source": [
    "from sklearn.neighbors import KNeighborsClassifier\n",
    "from sklearn.tree import DecisionTreeClassifier\n",
    "\n",
    "# Select features that had good scores on training set\n",
    "X_train1 = X_train[:, [0,1]]\n",
    "X_train2 = selector.transform(X_train)\n",
    "\n",
    "# Train a classifier\n",
    "knn1 = KNeighborsClassifier(n_neighbors=1) # other hyperparameters possible\n",
    "knn1trained = knn1.fit(X_train2, y_train)\n",
    "\n",
    "knn2 = KNeighborsClassifier(n_neighbors=3)\n",
    "knn2trained = knn2.fit(X_train2, y_train)\n",
    "\n",
    "tree1 = DecisionTreeClassifier() # various hyperparameters\n",
    "tree1trained = tree1.fit(X_train2, y_train)\n"
   ]
  },
  {
   "cell_type": "markdown",
   "metadata": {
    "id": "sjF58DfkzW5-"
   },
   "source": [
    "# Evaluate classifiers on validation set"
   ]
  },
  {
   "cell_type": "code",
   "execution_count": 18,
   "metadata": {
    "colab": {
     "base_uri": "https://localhost:8080/"
    },
    "id": "B_kRZCE80ZKV",
    "outputId": "66820bd2-5198-4da4-cdce-b7a3a1cf943d"
   },
   "outputs": [
    {
     "name": "stdout",
     "output_type": "stream",
     "text": [
      "64.28571428571429\n",
      "71.42857142857143\n"
     ]
    }
   ],
   "source": [
    "#Select the same features as before\n",
    "X_val1 = X_val[:, [0,1]]\n",
    "X_val2 = selector.transform(X_val)\n",
    "\n",
    "y_val_knn1 = knn1trained.predict(X_val2)\n",
    "y_val_knn2 = knn2trained.predict(X_val2)\n",
    "\n",
    "# Simple accuracy\n",
    "print(np.sum(y_val_knn1 == y_val) / np.size(y_val) * 100)\n",
    "print(np.sum(y_val_knn2 == y_val) / np.size(y_val) * 100)"
   ]
  },
  {
   "cell_type": "code",
   "execution_count": 19,
   "metadata": {
    "colab": {
     "base_uri": "https://localhost:8080/"
    },
    "id": "fW7DhUbb15Gy",
    "outputId": "9b9c89a0-9634-4bbe-cbdd-5643b378ba07"
   },
   "outputs": [
    {
     "name": "stdout",
     "output_type": "stream",
     "text": [
      "0.6428571428571429\n",
      "0.7142857142857143\n"
     ]
    }
   ],
   "source": [
    "from sklearn.metrics import accuracy_score\n",
    "\n",
    "acc_knn1 = accuracy_score(y_val, y_val_knn1)\n",
    "acc_knn2 = accuracy_score(y_val, y_val_knn2)\n",
    "\n",
    "print(acc_knn1)\n",
    "print(acc_knn2)"
   ]
  },
  {
   "cell_type": "code",
   "execution_count": 20,
   "metadata": {
    "colab": {
     "base_uri": "https://localhost:8080/"
    },
    "id": "OKM5Pvmf2mlN",
    "outputId": "5623a311-e995-4eb2-83aa-10ac0cfd2170"
   },
   "outputs": [
    {
     "name": "stdout",
     "output_type": "stream",
     "text": [
      "0.4875\n",
      "0.575\n"
     ]
    }
   ],
   "source": [
    "from sklearn.metrics import roc_auc_score\n",
    "\n",
    "auc1 = roc_auc_score(y_val, y_val_knn1)\n",
    "auc2 = roc_auc_score(y_val, y_val_knn2)\n",
    "\n",
    "print(auc1)\n",
    "print(auc2)"
   ]
  },
  {
   "cell_type": "code",
   "execution_count": 21,
   "metadata": {
    "colab": {
     "base_uri": "https://localhost:8080/"
    },
    "id": "N_yAmTEwADuy",
    "outputId": "12ca9376-7856-4666-c0da-916973d25cd9"
   },
   "outputs": [
    {
     "name": "stdout",
     "output_type": "stream",
     "text": [
      "0.7894736842105263\n",
      "0.744107744107744\n"
     ]
    }
   ],
   "source": [
    "# ONLY FOR REPORTING, also evaluate on test set\n",
    "X_test = X_test[:, [0,1]]\n",
    "\n",
    "y_test_knn1 = knn2trained.predict(X_test)\n",
    "\n",
    "acc_test = accuracy_score(y_test, y_test_knn1)\n",
    "auc_test = roc_auc_score(y_test, y_test_knn1)\n",
    "\n",
    "print(acc_test)\n",
    "print(auc_test)\n",
    "\n",
    "# For small datasets these results will depend on the random seed you chose when splitting, this is why it is good to look at multiple splits/cross-validation"
   ]
  }
 ],
 "metadata": {
  "colab": {
   "collapsed_sections": [],
   "include_colab_link": true,
   "name": "FYP project 3 - evaluation",
   "provenance": [],
   "toc_visible": true
  },
  "kernelspec": {
   "display_name": "Python 3",
   "language": "python",
   "name": "python3"
  },
  "language_info": {
   "codemirror_mode": {
    "name": "ipython",
    "version": 3
   },
   "file_extension": ".py",
   "mimetype": "text/x-python",
   "name": "python",
   "nbconvert_exporter": "python",
   "pygments_lexer": "ipython3",
   "version": "3.9.2"
  }
 },
 "nbformat": 4,
 "nbformat_minor": 4
}
